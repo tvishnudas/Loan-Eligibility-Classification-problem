{
 "cells": [
  {
   "cell_type": "markdown",
   "id": "2cce1c94",
   "metadata": {},
   "source": [
    "## Problem Statement:\n",
    "### The problem of loan default prediction is a critical challenge faced by financial institutions worldwide. Loan default occurs when a borrower fails to repay the borrowed amount within the agreed-upon terms, resulting in financial losses for lenders. Accurate prediction of loan default is crucial for lenders to manage risk, make informed lending decisions, and protect their financial assets."
   ]
  },
  {
   "cell_type": "code",
   "execution_count": 1,
   "id": "b30b56ac",
   "metadata": {},
   "outputs": [],
   "source": [
    "import pandas as pd\n",
    "import numpy as np\n",
    "from scipy import stats\n",
    "import seaborn as sb\n",
    "import matplotlib.pyplot as plt"
   ]
  },
  {
   "cell_type": "code",
   "execution_count": 2,
   "id": "df5be221",
   "metadata": {
    "scrolled": true
   },
   "outputs": [
    {
     "name": "stderr",
     "output_type": "stream",
     "text": [
      "C:\\Users\\asus\\AppData\\Local\\Temp\\ipykernel_7204\\1938896338.py:1: DtypeWarning: Columns (10,16) have mixed types. Specify dtype option on import or set low_memory=False.\n",
      "  df = pd.read_csv('Loans - Training Set.csv')\n"
     ]
    }
   ],
   "source": [
    "df = pd.read_csv('Loans - Training Set.csv')\n",
    "\n",
    "# change column names\n",
    "new_column_names = [x.replace(' ','_') for x in df.columns]\n",
    "df.columns = new_column_names"
   ]
  },
  {
   "cell_type": "markdown",
   "id": "f25bfc47",
   "metadata": {},
   "source": [
    "## Data splitting"
   ]
  },
  {
   "cell_type": "code",
   "execution_count": 3,
   "id": "94ca3d08",
   "metadata": {},
   "outputs": [],
   "source": [
    "from sklearn.model_selection import train_test_split\n",
    "\n",
    "X = df.drop('Loan_Status',axis=1)\n",
    "y = df['Loan_Status']\n",
    "\n",
    "X_train , X_test, y_train, y_test = train_test_split(X,y,test_size=0.20)\n",
    "X_train , X_valid, y_train, y_valid = train_test_split(X_train,y_train,test_size=0.25)"
   ]
  },
  {
   "cell_type": "markdown",
   "id": "daee76e6",
   "metadata": {},
   "source": [
    "## Data preparation and EDA"
   ]
  },
  {
   "cell_type": "code",
   "execution_count": 4,
   "id": "75164871",
   "metadata": {
    "scrolled": true
   },
   "outputs": [
    {
     "data": {
      "text/plain": [
       "Loan_ID                          0.000000\n",
       "Customer_ID                      0.000000\n",
       "Current_Loan_Amount              0.000000\n",
       "Term                             0.000000\n",
       "Credit_Score                    19.061548\n",
       "Years_in_current_job             4.215232\n",
       "Home_Ownership                   0.000000\n",
       "Annual_Income                   19.061548\n",
       "Purpose                          0.000000\n",
       "Monthly_Debt                     0.000000\n",
       "Years_of_Credit_History          0.000000\n",
       "Months_since_last_delinquent    53.164424\n",
       "Number_of_Open_Accounts          0.000000\n",
       "Number_of_Credit_Problems        0.000000\n",
       "Current_Credit_Balance           0.000000\n",
       "Maximum_Open_Credit              0.000000\n",
       "Bankruptcies                     0.193511\n",
       "Tax_Liens                        0.006000\n",
       "dtype: float64"
      ]
     },
     "execution_count": 4,
     "metadata": {},
     "output_type": "execute_result"
    }
   ],
   "source": [
    "# null percentage\n",
    "\n",
    "X_train.isna().sum()*100/len(X_train)"
   ]
  },
  {
   "cell_type": "code",
   "execution_count": 5,
   "id": "f6eba3b5",
   "metadata": {
    "scrolled": false
   },
   "outputs": [
    {
     "data": {
      "text/plain": [
       "{'whiskers': [<matplotlib.lines.Line2D at 0x23bda8469a0>,\n",
       "  <matplotlib.lines.Line2D at 0x23bda846c70>],\n",
       " 'caps': [<matplotlib.lines.Line2D at 0x23bda846f40>,\n",
       "  <matplotlib.lines.Line2D at 0x23bda867250>],\n",
       " 'boxes': [<matplotlib.lines.Line2D at 0x23bda8466d0>],\n",
       " 'medians': [<matplotlib.lines.Line2D at 0x23bda867520>],\n",
       " 'fliers': [<matplotlib.lines.Line2D at 0x23bda8677f0>],\n",
       " 'means': []}"
      ]
     },
     "execution_count": 5,
     "metadata": {},
     "output_type": "execute_result"
    },
    {
     "data": {
      "image/png": "[encoded data removed]",
      "text/plain": [
       "<Figure size 640x480 with 1 Axes>"
      ]
     },
     "metadata": {},
     "output_type": "display_data"
    }
   ],
   "source": [
    "plt.boxplot(X_train.Current_Loan_Amount)\n",
    "\n",
    "# Outliers of value 999999"
   ]
  },
  {
   "cell_type": "code",
   "execution_count": 6,
   "id": "deda93e9",
   "metadata": {},
   "outputs": [
    {
     "name": "stdout",
     "output_type": "stream",
     "text": [
      "count    31222.000000\n",
      "mean        34.899846\n",
      "std         21.942100\n",
      "min          0.000000\n",
      "25%         16.000000\n",
      "50%         32.000000\n",
      "75%         51.000000\n",
      "max        176.000000\n",
      "Name: Months_since_last_delinquent, dtype: float64\n"
     ]
    },
    {
     "data": {
      "image/png": "[encoded data removed]",
      "text/plain": [
       "<Figure size 640x480 with 1 Axes>"
      ]
     },
     "metadata": {},
     "output_type": "display_data"
    }
   ],
   "source": [
    "print(X_train.Months_since_last_delinquent.describe())\n",
    "sb.boxplot(y = 'Months_since_last_delinquent' , data = X_train )\n",
    "plt.show()"
   ]
  },
  {
   "cell_type": "code",
   "execution_count": 7,
   "id": "e74cb6d5",
   "metadata": {
    "scrolled": true
   },
   "outputs": [
    {
     "data": {
      "text/plain": [
       "count    3114.000000\n",
       "mean     7109.033398\n",
       "std       307.957944\n",
       "min      5850.000000\n",
       "25%      6950.000000\n",
       "50%      7180.000000\n",
       "75%      7350.000000\n",
       "max      7510.000000\n",
       "Name: Credit_Score, dtype: float64"
      ]
     },
     "execution_count": 7,
     "metadata": {},
     "output_type": "execute_result"
    }
   ],
   "source": [
    "# Credit scores above 851\n",
    "\n",
    "X_train[X_train['Credit_Score']>1000]['Credit_Score'].describe()"
   ]
  },
  {
   "cell_type": "code",
   "execution_count": 8,
   "id": "abc486cb",
   "metadata": {},
   "outputs": [],
   "source": [
    "numerical_fields = ['Current_Loan_Amount'\n",
    ",'Credit_Score'\n",
    ",'Annual_Income'\n",
    ",'Monthly_Debt'\n",
    ",'Years_of_Credit_History'\n",
    ",'Number_of_Open_Accounts'\n",
    ",'Number_of_Credit_Problems'\n",
    ",'Current_Credit_Balance'\n",
    ",'Maximum_Open_Credit'\n",
    ",'Bankruptcies'\n",
    ",'Tax_Liens'\n",
    "]\n",
    "categorical_fields = ['Term', 'Home_Ownership', 'Purpose']"
   ]
  },
  {
   "cell_type": "code",
   "execution_count": 9,
   "id": "a0889f13",
   "metadata": {
    "scrolled": false
   },
   "outputs": [
    {
     "data": {
      "image/png": "[encoded data removed]",
      "text/plain": [
       "<Figure size 640x480 with 1 Axes>"
      ]
     },
     "metadata": {},
     "output_type": "display_data"
    }
   ],
   "source": [
    "sb.boxplot(x = 'Term' ,y = 'Months_since_last_delinquent' , data = X_train )\n",
    "plt.show()"
   ]
  },
  {
   "cell_type": "markdown",
   "id": "36d5fa37",
   "metadata": {},
   "source": [
    "### Chi Square Test for independence between categorical columns"
   ]
  },
  {
   "cell_type": "code",
   "execution_count": 10,
   "id": "347777d9",
   "metadata": {
    "scrolled": false
   },
   "outputs": [],
   "source": [
    "def test_independence(df ,col1, col2, alpha=0.05):\n",
    "    # Hypothesis. col1 and col2 are independent of each other.\n",
    "    # We'll be using chi square test of independence for this\n",
    "\n",
    "    #Obeserved values\n",
    "    tab = pd.crosstab(index=df[col1], columns=df[col2])\n",
    "    tab_Obs = tab.copy()\n",
    "    tab_Obs['rowsum'] = tab_Obs.sum(axis = 1)\n",
    "    tab_Obs.loc['colsum',:] = tab_Obs.sum(axis =0)\n",
    "    \n",
    "    #Expected values\n",
    "    tab_Exp = tab_Obs.copy()\n",
    "    for tab_col in tab_Exp.columns:\n",
    "        for i in tab_Exp.index[:-1]:\n",
    "            tab_Exp.loc[i,tab_col] = tab_Exp.loc['colsum',tab_col] * tab_Exp.loc[i,'rowsum'] / tab_Exp.loc['colsum','rowsum']  \n",
    "    \n",
    "    #chi square value between col1 and col2\n",
    "    chi_sq = np.sum(np.sum((tab_Exp - tab_Obs)**2/(tab_Exp)))\n",
    "    \n",
    "    df_value = (len(df[col1].unique())-1)*(len(df[col2].unique())-1)\n",
    "    \n",
    "    chi_crit = stats.chi2.isf(alpha,df_value)\n",
    "    \n",
    "    #p-value\n",
    "\n",
    "    p = stats.chi2.sf(chi_sq,df_value)\n",
    "    \n",
    "    if p >= alpha : \n",
    "        return (True, p)\n",
    "    else:\n",
    "        return (False, p)"
   ]
  },
  {
   "cell_type": "code",
   "execution_count": 11,
   "id": "1fc149af",
   "metadata": {
    "scrolled": false
   },
   "outputs": [
    {
     "name": "stdout",
     "output_type": "stream",
     "text": [
      "\n",
      " TERM  vs  HOME_OWNERSHIP   :(False, 1.2164994597117956e-194)\n",
      "\n",
      " TERM  vs  PURPOSE   :(False, 1.7532361882513067e-73)\n",
      "\n",
      " HOME_OWNERSHIP  vs  PURPOSE   :(False, 0.0)\n"
     ]
    }
   ],
   "source": [
    "for i in range(len(categorical_fields)):\n",
    "    for j in range(i+1, len(categorical_fields)):\n",
    "        col1 = categorical_fields[i]\n",
    "        col2 = categorical_fields[j]\n",
    "        print('\\n',col1.upper(),' vs ', col2.upper(),end = '   :')\n",
    "        print(test_independence(X_train, col1,col2))"
   ]
  },
  {
   "cell_type": "code",
   "execution_count": 12,
   "id": "77d305ef",
   "metadata": {
    "scrolled": false
   },
   "outputs": [
    {
     "name": "stdout",
     "output_type": "stream",
     "text": [
      "------------ TERM ------------------\n",
      "Loan_Status  Charged Off  Fully Paid\n",
      "Term                                \n",
      "Long Term           9264       21569\n",
      "Short Term         15909       64365\n",
      " \n",
      "Loan_Status  Charged Off  Fully Paid\n",
      "Term                                \n",
      "Long Term       0.300457    0.699543\n",
      "Short Term      0.198184    0.801816\n"
     ]
    },
    {
     "data": {
      "image/png": "[encoded data removed]",
      "text/plain": [
       "<Figure size 640x480 with 1 Axes>"
      ]
     },
     "metadata": {},
     "output_type": "display_data"
    },
    {
     "name": "stdout",
     "output_type": "stream",
     "text": [
      " \n",
      "------------ HOME_OWNERSHIP ------------------\n",
      "Loan_Status     Charged Off  Fully Paid\n",
      "Home_Ownership                         \n",
      "HaveMortgage             34         199\n",
      "Home Mortgage         11033       42785\n",
      "Own Home               2337        7851\n",
      "Rent                  11769       35099\n",
      " \n",
      "Loan_Status     Charged Off  Fully Paid\n",
      "Home_Ownership                         \n",
      "HaveMortgage       0.145923    0.854077\n",
      "Home Mortgage      0.205006    0.794994\n",
      "Own Home           0.229388    0.770612\n",
      "Rent               0.251109    0.748891\n"
     ]
    },
    {
     "data": {
      "image/png": "[encoded data removed]",
      "text/plain": [
       "<Figure size 640x480 with 1 Axes>"
      ]
     },
     "metadata": {},
     "output_type": "display_data"
    },
    {
     "name": "stdout",
     "output_type": "stream",
     "text": [
      " \n",
      "------------ PURPOSE ------------------\n",
      "Loan_Status           Charged Off  Fully Paid\n",
      "Purpose                                      \n",
      "Business Loan                 533        1216\n",
      "Buy House                     159         599\n",
      "Buy a Car                     234        1188\n",
      "Debt Consolidation          19918       67359\n",
      "Educational Expenses           21          93\n",
      "Home Improvements            1296        5208\n",
      "Medical Bills                 311         948\n",
      "Other                         667        2928\n",
      "Take a Trip                   123         499\n",
      "major_purchase                 99         308\n",
      "moving                         49         118\n",
      "other                        1572        5099\n",
      "renewable_energy                4           7\n",
      "small_business                131         187\n",
      "vacation                       30          77\n",
      "wedding                        26         100\n",
      " \n",
      "Loan_Status           Charged Off  Fully Paid\n",
      "Purpose                                      \n",
      "Business Loan            0.304746    0.695254\n",
      "Buy House                0.209763    0.790237\n",
      "Buy a Car                0.164557    0.835443\n",
      "Debt Consolidation       0.228216    0.771784\n",
      "Educational Expenses     0.184211    0.815789\n",
      "Home Improvements        0.199262    0.800738\n",
      "Medical Bills            0.247021    0.752979\n",
      "Other                    0.185535    0.814465\n",
      "Take a Trip              0.197749    0.802251\n",
      "major_purchase           0.243243    0.756757\n",
      "moving                   0.293413    0.706587\n",
      "other                    0.235647    0.764353\n",
      "renewable_energy         0.363636    0.636364\n",
      "small_business           0.411950    0.588050\n",
      "vacation                 0.280374    0.719626\n",
      "wedding                  0.206349    0.793651\n"
     ]
    },
    {
     "data": {
      "image/png": "[encoded data removed]",
      "text/plain": [
       "<Figure size 640x480 with 1 Axes>"
      ]
     },
     "metadata": {},
     "output_type": "display_data"
    },
    {
     "name": "stdout",
     "output_type": "stream",
     "text": [
      " \n"
     ]
    }
   ],
   "source": [
    "for cvar in categorical_fields:\n",
    "    if cvar == 'Loan_Status':\n",
    "        continue\n",
    "    print('------------',cvar.upper(),'------------------')\n",
    "    tab = pd.crosstab(df[cvar],columns=df.Loan_Status)\n",
    "    print(tab)\n",
    "    print(' ')\n",
    "    rowtotal = tab.sum(axis =1)\n",
    "    tab2 = tab.div(rowtotal,axis=0)\n",
    "    print(tab2)\n",
    "    tab2.plot.bar(rot=0)\n",
    "    plt.show()\n",
    "    print(' ')"
   ]
  },
  {
   "cell_type": "code",
   "execution_count": 13,
   "id": "173b584f",
   "metadata": {
    "scrolled": false
   },
   "outputs": [],
   "source": [
    "# for cvar in numerical_fields:\n",
    "#     sb.boxplot( x = 'Loan_Status' ,y = cvar , data = X_train )\n",
    "#     plt.show()"
   ]
  },
  {
   "cell_type": "code",
   "execution_count": 14,
   "id": "6fe19832",
   "metadata": {
    "scrolled": false
   },
   "outputs": [],
   "source": [
    "# for nvar in numerical_fields:\n",
    "#     plt.scatter( df.Months_since_last_delinquent, df[nvar])\n",
    "#     plt.show()"
   ]
  },
  {
   "cell_type": "markdown",
   "id": "1f80354d",
   "metadata": {},
   "source": [
    "## Data preparation pipeline functions"
   ]
  },
  {
   "cell_type": "code",
   "execution_count": 15,
   "id": "9dc1e857",
   "metadata": {},
   "outputs": [],
   "source": [
    "# Import label encoder\n",
    "from sklearn import preprocessing\n",
    "\n",
    "# label_encoder object knows how to understand word labels.\n",
    "label_encoder = preprocessing.LabelEncoder()\n",
    "\n",
    "def data_Y_prep(y_train):\n",
    "    return label_encoder.fit_transform(y_train)"
   ]
  },
  {
   "cell_type": "code",
   "execution_count": 16,
   "id": "d547c380",
   "metadata": {
    "scrolled": false
   },
   "outputs": [],
   "source": [
    "from sklearn.experimental import enable_iterative_imputer\n",
    "from sklearn.impute import IterativeImputer\n",
    "from sklearn.linear_model import BayesianRidge\n",
    "\n",
    "msld_median_dict = {}\n",
    "\n",
    "def data_prep(df_inp, y, is_test):\n",
    "    \n",
    "    if not is_test:\n",
    "        # drop duplicates. Do not do it in test data\n",
    "        df_inp['y'] = y\n",
    "        df_inp.drop_duplicates(inplace=True, ignore_index = True)\n",
    "        y = df_inp['y']\n",
    "        df_inp.drop(['y'],inplace=True, axis =1)\n",
    "        \n",
    "    df_inp['Loan_Status'] = y\n",
    "    \n",
    "    # drop loan id, customer id and columns with null percentage > 50 %\n",
    "    df_inp = df_inp.drop(['Loan_ID','Customer_ID','Months_since_last_delinquent'], axis =1)\n",
    "    \n",
    "    # remove the highly dependednt categorical columns\n",
    "    # df_inp = df_inp.drop(['Home_Ownership','Years_in_current_job','Term'], axis =1)\n",
    "    # categorical_fields = ['Purpose']\n",
    "    \n",
    "    #correct the data for $ sign\n",
    "    for col in ['Monthly_Debt','Maximum_Open_Credit']:\n",
    "        df_inp[col] = df_inp[col].astype(str)\n",
    "        df_inp[col] = df_inp[col].str.replace('$', '', regex = True)\n",
    "    \n",
    "    # manually encode years in current job\n",
    "    df_inp['Years_in_current_job'] = df_inp['Years_in_current_job'].replace({'< 1 year':0, '10+ years':10, '9 years':9, \n",
    "        '3 years':3, '2 years':2,'7 years':7, '6 years':6, '1 year':1, '5 years':5, '4 years':4, '8 years':8,np.nan:10})\n",
    "    \n",
    "    # merge 'other' in purpose\n",
    "    df_inp['Purpose'] = df_inp['Purpose'].replace({'other':'Other'})\n",
    "    \n",
    "    # correct credit score for those above 1000 by dividing by 1000\n",
    "    for i in df_inp[df_inp['Credit_Score']>1000].index:\n",
    "        df_inp.loc[i,'Credit_Score'] = df_inp.loc[i,'Credit_Score']/10\n",
    "            \n",
    "    # fix the Maximum open Credit where value = '#VALUE'. \n",
    "    df_inp['Maximum_Open_Credit'] = df_inp['Maximum_Open_Credit'].replace('#VALUE!', np.nan)\n",
    "    for col in ['Monthly_Debt','Maximum_Open_Credit']:\n",
    "        df_inp[col] = df_inp[col].astype(float)\n",
    "        \n",
    "    # imputing Months_since_last_delinquent. This is specially imputed before encoding\n",
    "    global msld_median_dict\n",
    "    if not is_test:\n",
    "        msld_median_dict = dict(df_inp.Years_in_current_job.groupby(by = df_inp.Loan_Status).median())   \n",
    "    \n",
    "    for i in df_inp[df_inp['Years_in_current_job'].isnull()].index.tolist():\n",
    "        tlt = df_inp.loc[i,'Loan_Status']\n",
    "        df_inp.loc[i,'Years_in_current_job'] = msld_median_dict[tlt]\n",
    "        \n",
    "    # one hot encoding for categorical variables\n",
    "    df_inp = pd.get_dummies(df_inp, columns = categorical_fields)\n",
    "     \n",
    "#     for cvar in categorical_fields:\n",
    "#         df_inp[cvar]= label_encoder.fit_transform(df_inp[cvar])\n",
    "    \n",
    "    test_len = len(df_inp)\n",
    "    \n",
    "    if is_test:\n",
    "        # before imputation we need to merge it with X_train\n",
    "        # X_train must be prepared before this\n",
    "        frames = [X_train, df_inp]\n",
    "        df_inp = pd.concat(frames, ignore_index=True)\n",
    "    \n",
    "    # IMPUTATION STARTS HERE\n",
    "    \n",
    "    # monthly debt-wise conditional mean imputation of annual income\n",
    "    ai_impute_list = [df_inp[( df_inp.Monthly_Debt > df_inp.Monthly_Debt.quantile(x)) & \n",
    "       (df_inp.Monthly_Debt <= df_inp.Monthly_Debt.quantile(x+.1))].Annual_Income.mean() for x in np.linspace(0,.9,10)]\n",
    "\n",
    "    md_list = [df_inp.Monthly_Debt.quantile(x) for x in np.linspace(0,.9,10)]\n",
    "\n",
    "    for i in df_inp[df_inp['Annual_Income'].isnull()].index.tolist():\n",
    "        for j in range(len(md_list)):\n",
    "            if df_inp.loc[i,'Monthly_Debt'] >= md_list[j]:\n",
    "                df_inp.loc[i,'Annual_Income'] = ai_impute_list[j] \n",
    "                \n",
    "    # fixing the outliers in Current_Loan_Amount\n",
    "    cla_impute_list = [df_inp[( df_inp.Monthly_Debt > df_inp.Monthly_Debt.quantile(x)) & \n",
    "           (df_inp.Monthly_Debt <= df_inp.Monthly_Debt.quantile(x+.1))].Current_Loan_Amount.median() for x in np.linspace(0,.9,10)]\n",
    "    md_list = [df_inp.Monthly_Debt.quantile(x) for x in np.linspace(0,.9,10)]\n",
    "    \n",
    "    for i in df_inp[df_inp['Current_Loan_Amount'] == 99999999].index.tolist():\n",
    "        for j in range(len(md_list)):\n",
    "            if df_inp.loc[i,'Monthly_Debt'] >= md_list[j]:\n",
    "                df_inp.loc[i,'Current_Loan_Amount'] = cla_impute_list[j]    \n",
    "                \n",
    "    # mode imputation for columns Maximum_Open_Credit, Bankruptcies and Tax_Liens\n",
    "    moc_mode = int(df_inp['Maximum_Open_Credit'].mode())\n",
    "    bkr_mode = int(df_inp['Bankruptcies'].mode())\n",
    "    tl_mode  = int(df_inp['Tax_Liens'].mode())\n",
    "    \n",
    "    df_inp['Maximum_Open_Credit'].fillna(moc_mode, inplace=True)\n",
    "    df_inp['Bankruptcies'].fillna(bkr_mode, inplace=True)\n",
    "    df_inp['Tax_Liens'].fillna(tl_mode, inplace=True)    \n",
    "    \n",
    "    # mice imputation for credit score\n",
    "    mice_imputer = IterativeImputer(estimator=BayesianRidge())\n",
    "    df_inp = pd.DataFrame(mice_imputer.fit_transform(df_inp), columns=df_inp.columns)\n",
    "    \n",
    "    # droping high multi collinear columns\n",
    "    df_inp = df_inp.drop(['Number_of_Credit_Problems','Loan_Status'], axis =1)\n",
    "    \n",
    "    curr_len = len(df_inp)\n",
    "    \n",
    "    if is_test:\n",
    "        df_inp = df_inp.loc[curr_len - test_len:,:]\n",
    "        \n",
    "    return df_inp, y"
   ]
  },
  {
   "cell_type": "code",
   "execution_count": 17,
   "id": "f2d9648d",
   "metadata": {},
   "outputs": [],
   "source": [
    "# train data preparation\n",
    "y_train = data_Y_prep(y_train)\n",
    "X_train, y_train = data_prep(X_train, y_train, False)"
   ]
  },
  {
   "cell_type": "code",
   "execution_count": 18,
   "id": "fca23117",
   "metadata": {},
   "outputs": [
    {
     "name": "stdout",
     "output_type": "stream",
     "text": [
      "{0: 7.0, 1: 6.0}\n"
     ]
    }
   ],
   "source": [
    "print(msld_median_dict)"
   ]
  },
  {
   "cell_type": "code",
   "execution_count": 19,
   "id": "ebc05449",
   "metadata": {},
   "outputs": [],
   "source": [
    "# categorical_fields = ['Purpose']\n",
    "\n",
    "numerical_fields = ['Current_Loan_Amount'\n",
    "    ,'Credit_Score'\n",
    "    ,'Annual_Income'\n",
    "    ,'Monthly_Debt'\n",
    "    ,'Years_of_Credit_History'\n",
    "    ,'Number_of_Open_Accounts'\n",
    "    ,'Current_Credit_Balance'\n",
    "    ,'Maximum_Open_Credit'\n",
    "    ,'Bankruptcies'\n",
    "    ,'Tax_Liens' ]"
   ]
  },
  {
   "cell_type": "markdown",
   "id": "86d7a6cf",
   "metadata": {},
   "source": [
    "### correlation coefficients"
   ]
  },
  {
   "cell_type": "code",
   "execution_count": 20,
   "id": "304b4467",
   "metadata": {},
   "outputs": [
    {
     "name": "stdout",
     "output_type": "stream",
     "text": [
      "\n",
      " CURRENT_LOAN_AMOUNT  vs  ANNUAL_INCOME   :0.42066180577302226\n",
      "\n",
      " CURRENT_LOAN_AMOUNT  vs  MONTHLY_DEBT   :0.4659318164100966\n",
      "\n",
      " CURRENT_LOAN_AMOUNT  vs  YEARS_OF_CREDIT_HISTORY   :0.1557412627256557\n",
      "\n",
      " CURRENT_LOAN_AMOUNT  vs  NUMBER_OF_OPEN_ACCOUNTS   :0.21811824665555463\n",
      "\n",
      " CURRENT_LOAN_AMOUNT  vs  CURRENT_CREDIT_BALANCE   :0.3258027367301161\n",
      "\n",
      " ANNUAL_INCOME  vs  MONTHLY_DEBT   :0.6024533145870448\n",
      "\n",
      " ANNUAL_INCOME  vs  YEARS_OF_CREDIT_HISTORY   :0.18770590254866118\n",
      "\n",
      " ANNUAL_INCOME  vs  NUMBER_OF_OPEN_ACCOUNTS   :0.1948787004848849\n",
      "\n",
      " ANNUAL_INCOME  vs  CURRENT_CREDIT_BALANCE   :0.37365664346632677\n",
      "\n",
      " MONTHLY_DEBT  vs  YEARS_OF_CREDIT_HISTORY   :0.19544495717651386\n",
      "\n",
      " MONTHLY_DEBT  vs  NUMBER_OF_OPEN_ACCOUNTS   :0.41186566885342124\n",
      "\n",
      " MONTHLY_DEBT  vs  CURRENT_CREDIT_BALANCE   :0.4812393486729586\n",
      "\n",
      " YEARS_OF_CREDIT_HISTORY  vs  NUMBER_OF_OPEN_ACCOUNTS   :0.13703565642638926\n",
      "\n",
      " YEARS_OF_CREDIT_HISTORY  vs  CURRENT_CREDIT_BALANCE   :0.1992770150184409\n",
      "\n",
      " NUMBER_OF_OPEN_ACCOUNTS  vs  CURRENT_CREDIT_BALANCE   :0.22419066770108687\n",
      "\n",
      " CURRENT_CREDIT_BALANCE  vs  MAXIMUM_OPEN_CREDIT   :0.1492157467309427\n"
     ]
    }
   ],
   "source": [
    "for i in range(len(numerical_fields)):\n",
    "    for j in range(i+1, len(numerical_fields)):\n",
    "        col1 = numerical_fields[i]\n",
    "        col2 = numerical_fields[j]\n",
    "        if np.corrcoef(X_train[col1],X_train[col2])[0][1] > .1:\n",
    "            print('\\n',col1.upper(),' vs ', col2.upper(),end = '   :')\n",
    "            print(np.corrcoef(X_train[col1],X_train[col2])[0][1] )"
   ]
  },
  {
   "cell_type": "markdown",
   "id": "62200e11",
   "metadata": {},
   "source": [
    "## Base Model"
   ]
  },
  {
   "cell_type": "code",
   "execution_count": 21,
   "id": "66ae6478",
   "metadata": {},
   "outputs": [],
   "source": [
    "y_valid = data_Y_prep(y_valid)\n",
    "X_valid , y_valid = data_prep(X_valid, y_valid, True)"
   ]
  },
  {
   "cell_type": "code",
   "execution_count": 22,
   "id": "eea134f4",
   "metadata": {},
   "outputs": [],
   "source": [
    "from sklearn.tree import DecisionTreeClassifier\n",
    "#metrics\n",
    "from sklearn.metrics import roc_auc_score, recall_score, precision_score, accuracy_score, confusion_matrix, f1_score\n",
    "from sklearn.preprocessing import RobustScaler, MinMaxScaler, StandardScaler"
   ]
  },
  {
   "cell_type": "markdown",
   "id": "2605c6a0",
   "metadata": {},
   "source": [
    "## Decision tree pruning"
   ]
  },
  {
   "cell_type": "code",
   "execution_count": 23,
   "id": "77e5f702",
   "metadata": {
    "scrolled": false
   },
   "outputs": [],
   "source": [
    "# # pruned decision tree\n",
    "# # hyperparameter tuning for optimal ccp_alpha (cost complexity parameter)\n",
    "\n",
    "# reg_tree = DecisionTreeClassifier(random_state=0)\n",
    "# reg_tree.fit(X_train,y_train)\n",
    "# y_pred = reg_tree.predict(X_valid)\n",
    "\n",
    "# path = reg_tree.cost_complexity_pruning_path(X_train, y_train)\n",
    "# ccp_alphas, impurities = path.ccp_alphas, path.impurities\n",
    "\n",
    "# print('ccp_alphas:',ccp_alphas)\n",
    "\n",
    "# # For each alpha we will append our model to a list\n",
    "# clfs = []\n",
    "# #ccp_alphas = np.linspace(.1,2,20)\n",
    "# ccp_alphas = ccp_alphas[:-1]\n",
    "\n",
    "# print(len(ccp_alphas))\n",
    "\n",
    "# ccp_alphas_new = []\n",
    "\n",
    "# for i in range(0,len(ccp_alphas),50):\n",
    "#     ccp_alpha = ccp_alphas[i]\n",
    "#     ccp_alphas_new.append(ccp_alpha)\n",
    "#     clf = DecisionTreeClassifier(random_state=0, ccp_alpha=ccp_alpha)\n",
    "#     clf.fit(X_train, y_train)\n",
    "#     clfs.append(clf)\n",
    "\n",
    "# ccp_alphas = ccp_alphas_new\n",
    "# train_acc = []\n",
    "# test_acc = []\n",
    "# for c in clfs:\n",
    "#     y_train_pred = c.predict(X_train)\n",
    "#     y_valid_pred = c.predict(X_valid)\n",
    "#     train_acc.append(f1_score(y_train_pred,y_train))\n",
    "#     test_acc.append(f1_score(y_valid_pred,y_valid))\n",
    "\n",
    "# plt.scatter(ccp_alphas,train_acc)\n",
    "# plt.scatter(ccp_alphas,test_acc)\n",
    "# plt.plot(ccp_alphas,train_acc,label='train_accuracy',drawstyle=\"steps-post\")\n",
    "# plt.plot(ccp_alphas,test_acc,label='test_accuracy',drawstyle=\"steps-post\")\n",
    "# plt.legend()\n",
    "# plt.title('Accuracy vs ccp_alpha')\n",
    "# plt.show()"
   ]
  },
  {
   "cell_type": "markdown",
   "id": "c64106a6",
   "metadata": {},
   "source": [
    "## Scaling"
   ]
  },
  {
   "cell_type": "code",
   "execution_count": 24,
   "id": "5d954185",
   "metadata": {},
   "outputs": [],
   "source": [
    "scaler = MinMaxScaler()\n",
    "df_column_names = X_train.columns\n",
    "robust_df = scaler.fit_transform(X_train)\n",
    "X_train_scale = pd.DataFrame(robust_df, columns =df_column_names)\n",
    "\n",
    "robust_df = scaler.fit_transform(X_valid)\n",
    "X_valid_scale = pd.DataFrame(robust_df, columns =df_column_names)"
   ]
  },
  {
   "cell_type": "markdown",
   "id": "4df6b191",
   "metadata": {},
   "source": [
    "### Handling data imbalance"
   ]
  },
  {
   "cell_type": "code",
   "execution_count": 25,
   "id": "7f8f455e",
   "metadata": {},
   "outputs": [],
   "source": [
    "from imblearn.over_sampling import SMOTE, SMOTEN, BorderlineSMOTE, SVMSMOTE, ADASYN, KMeansSMOTE\n",
    "    \n",
    "# sm = SMOTE(random_state = 2)\n",
    "# X_train_sm, y_train_sm = sm.fit_resample(X_train_scale, y_train)\n",
    "# X_valid_sm = X_valid_scale\n",
    "\n",
    "# apply near miss\n",
    "from imblearn.under_sampling import NearMiss\n",
    "nr = NearMiss()\n",
    "X_train_sm, y_train_sm = nr.fit_resample(X_train, y_train)\n",
    "X_valid_sm = X_valid"
   ]
  },
  {
   "cell_type": "markdown",
   "id": "e3556346",
   "metadata": {},
   "source": [
    "## Models"
   ]
  },
  {
   "cell_type": "code",
   "execution_count": 26,
   "id": "2c0c1441",
   "metadata": {},
   "outputs": [],
   "source": [
    "def transform_input(dfinp):\n",
    "    dfinpcopy = dfinp.copy()\n",
    "    #dfinpcopy['Current_Loan_Amount'] = np.log10(dfinp['Current_Loan_Amount'])\n",
    "    #dfinpcopy['Annual_Income'] = np.square(dfinp['Annual_Income'])\n",
    "    return dfinpcopy"
   ]
  },
  {
   "cell_type": "code",
   "execution_count": 27,
   "id": "f982155a",
   "metadata": {
    "scrolled": false
   },
   "outputs": [
    {
     "name": "stdout",
     "output_type": "stream",
     "text": [
      "0.590332735459894 0.8168850072780204 0.8137579026738588 0.7139771397713978 0.8153184565318456\n",
      "\n",
      "f1_score        :  0.8153184565318456\n",
      "recall_score    :  0.8168850072780204\n",
      "precision_score :  0.8137579026738588\n",
      "accuracy_score  :  0.7139771397713978\n"
     ]
    },
    {
     "data": {
      "image/png": "[encoded data removed]",
      "text/plain": [
       "<Figure size 250x250 with 1 Axes>"
      ]
     },
     "metadata": {},
     "output_type": "display_data"
    }
   ],
   "source": [
    "# X_train_sm1 = transform_input(X_train)\n",
    "# X_valid_sm1 = transform_input(X_valid)\n",
    "\n",
    "# base model\n",
    "model_tree = DecisionTreeClassifier()\n",
    "model_tree.fit(X_train, y_train)\n",
    "\n",
    "y_pred = model_tree.predict(X_valid)\n",
    "\n",
    "print(roc_auc_score(y_valid, y_pred),\n",
    "     recall_score(y_valid, y_pred),\n",
    "     precision_score(y_valid, y_pred),\n",
    "     accuracy_score(y_valid, y_pred),\n",
    "     f1_score(y_valid, y_pred))\n",
    "\n",
    "print('\\nf1_score        : ',f1_score(y_valid, y_pred))\n",
    "print('recall_score    : ',recall_score(y_valid, y_pred))\n",
    "print('precision_score : ',precision_score(y_valid, y_pred))\n",
    "print('accuracy_score  : ',accuracy_score(y_valid, y_pred))\n",
    "\n",
    "# printing confusion matrix\n",
    "conf_matrix = confusion_matrix(y_valid, y_pred)\n",
    "\n",
    "fig, ax = plt.subplots(figsize=(2.5, 2.5))\n",
    "ax.matshow(conf_matrix, cmap=plt.cm.Blues, alpha=0.3)\n",
    "for i in range(conf_matrix.shape[0]):\n",
    "    for j in range(conf_matrix.shape[1]):\n",
    "        ax.text(x=j, y=i,s=conf_matrix[i, j], va='center', ha='center', size='small')\n",
    " \n",
    "plt.xlabel('Predictions', fontsize=10)\n",
    "plt.ylabel('Actuals', fontsize=10)\n",
    "plt.title('Confusion Matrix', fontsize=10)\n",
    "plt.show()"
   ]
  },
  {
   "cell_type": "markdown",
   "id": "39182a77",
   "metadata": {},
   "source": [
    "### Hyper parameter tuning with gridsearchcv"
   ]
  },
  {
   "cell_type": "code",
   "execution_count": 28,
   "id": "86606bee",
   "metadata": {},
   "outputs": [],
   "source": [
    "# from sklearn.model_selection import GridSearchCV\n",
    "\n",
    "# param_test1 = {'max_depth':range(1,44,2),'max_leaf_nodes':range(2,14000,500)}\n",
    "\n",
    "# gsearch1 = GridSearchCV(estimator = DecisionTreeClassifier(), \n",
    "#                                       param_grid = param_test1, scoring='f1',\n",
    "#                                       n_jobs=4, cv=5)\n",
    "\n",
    "# gsearch1.fit(X_train,y_train)\n",
    "\n",
    "# # pd.DataFrame({'n_estimator': gsearch1.cv_results_['params'], \n",
    "# #               'mean_test_score':gsearch1.cv_results_['mean_test_score']})\n",
    "\n",
    "# gsearch1.best_params_, gsearch1.best_score_"
   ]
  },
  {
   "cell_type": "markdown",
   "id": "90e8b0dd",
   "metadata": {},
   "source": [
    "#### tuning results: max_depth=41,max_leaf_nodes=502"
   ]
  },
  {
   "cell_type": "code",
   "execution_count": 29,
   "id": "a7655e3a",
   "metadata": {
    "scrolled": true
   },
   "outputs": [
    {
     "data": {
      "text/plain": [
       "count    64575.000000\n",
       "mean       717.143375\n",
       "std         26.223070\n",
       "min        585.000000\n",
       "25%        704.000000\n",
       "50%        723.132951\n",
       "75%        736.000000\n",
       "max        762.734446\n",
       "Name: Credit_Score, dtype: float64"
      ]
     },
     "execution_count": 29,
     "metadata": {},
     "output_type": "execute_result"
    }
   ],
   "source": [
    "X_train.Credit_Score.describe()"
   ]
  },
  {
   "cell_type": "markdown",
   "id": "d7e9b10a",
   "metadata": {},
   "source": [
    "## Model 2"
   ]
  },
  {
   "cell_type": "code",
   "execution_count": 30,
   "id": "16c36d2f",
   "metadata": {},
   "outputs": [],
   "source": [
    "from sklearn.naive_bayes import GaussianNB"
   ]
  },
  {
   "cell_type": "code",
   "execution_count": 31,
   "id": "8c3ee9a7",
   "metadata": {},
   "outputs": [
    {
     "name": "stdout",
     "output_type": "stream",
     "text": [
      "0.5562027624463954 0.3515574963609898 0.8334023464458247 0.44451444514445143 0.49451269451269453\n"
     ]
    }
   ],
   "source": [
    "model = GaussianNB()\n",
    "model.fit(X_train, y_train)\n",
    "\n",
    "y_pred = model.predict(X_valid)\n",
    "\n",
    "y_pred = model.predict(X_valid)\n",
    "print(roc_auc_score(y_valid, y_pred),\n",
    "     recall_score(y_valid, y_pred),\n",
    "     precision_score(y_valid, y_pred),\n",
    "     accuracy_score(y_valid, y_pred),\n",
    "     f1_score(y_valid, y_pred))"
   ]
  },
  {
   "cell_type": "markdown",
   "id": "af6af100",
   "metadata": {},
   "source": [
    "## Model 3"
   ]
  },
  {
   "cell_type": "code",
   "execution_count": 32,
   "id": "31de2ed6",
   "metadata": {},
   "outputs": [],
   "source": [
    "from sklearn.ensemble import RandomForestClassifier"
   ]
  },
  {
   "cell_type": "code",
   "execution_count": 33,
   "id": "29356bdc",
   "metadata": {
    "scrolled": true
   },
   "outputs": [
    {
     "name": "stdout",
     "output_type": "stream",
     "text": [
      "0.5892786150793892 0.8153711790393013 0.8133348821001277 0.7126721267212672 0.8143517576250981\n"
     ]
    },
    {
     "data": {
      "image/png": "[encoded data removed]",
      "text/plain": [
       "<Figure size 250x250 with 1 Axes>"
      ]
     },
     "metadata": {},
     "output_type": "display_data"
    }
   ],
   "source": [
    "model_rf = DecisionTreeClassifier()\n",
    "model_rf.fit(X_train, y_train)\n",
    "\n",
    "y_pred = model_rf.predict(X_valid)\n",
    "\n",
    "print(roc_auc_score(y_valid, y_pred),\n",
    "     recall_score(y_valid, y_pred),\n",
    "     precision_score(y_valid, y_pred),\n",
    "     accuracy_score(y_valid, y_pred),\n",
    "     f1_score(y_valid, y_pred))\n",
    "\n",
    "# printing confusion matrix\n",
    "conf_matrix = confusion_matrix(y_valid, y_pred)\n",
    "\n",
    "fig, ax = plt.subplots(figsize=(2.5, 2.5))\n",
    "ax.matshow(conf_matrix, cmap=plt.cm.Blues, alpha=0.3)\n",
    "for i in range(conf_matrix.shape[0]):\n",
    "    for j in range(conf_matrix.shape[1]):\n",
    "        ax.text(x=j, y=i,s=conf_matrix[i, j], va='center', ha='center', size='small')\n",
    " \n",
    "plt.xlabel('Predictions', fontsize=10)\n",
    "plt.ylabel('Actuals', fontsize=10)\n",
    "plt.title('Confusion Matrix', fontsize=10)\n",
    "plt.show()"
   ]
  },
  {
   "cell_type": "code",
   "execution_count": 34,
   "id": "4c79e68b",
   "metadata": {},
   "outputs": [
    {
     "name": "stdout",
     "output_type": "stream",
     "text": [
      "0.550971493867399 0.9525473071324599 0.7921367355832083 0.7701377013770138 0.8649677487575341\n",
      "\n",
      "f1_score        :  0.8649677487575341\n",
      "recall_score    :  0.9525473071324599\n",
      "precision_score :  0.7921367355832083\n",
      "accuracy_score  :  0.7701377013770138\n"
     ]
    },
    {
     "data": {
      "image/png": "[encoded data removed]",
      "text/plain": [
       "<Figure size 250x250 with 1 Axes>"
      ]
     },
     "metadata": {},
     "output_type": "display_data"
    }
   ],
   "source": [
    "# final model\n",
    "model_final = DecisionTreeClassifier(max_depth=41,max_leaf_nodes=502)\n",
    "model_final.fit(X_train, y_train)\n",
    "\n",
    "y_pred = model_final.predict(X_valid)\n",
    "\n",
    "print(roc_auc_score(y_valid, y_pred),\n",
    "     recall_score(y_valid, y_pred),\n",
    "     precision_score(y_valid, y_pred),\n",
    "     accuracy_score(y_valid, y_pred),\n",
    "     f1_score(y_valid, y_pred))\n",
    "\n",
    "print('\\nf1_score        : ',f1_score(y_valid, y_pred))\n",
    "print('recall_score    : ',recall_score(y_valid, y_pred))\n",
    "print('precision_score : ',precision_score(y_valid, y_pred))\n",
    "print('accuracy_score  : ',accuracy_score(y_valid, y_pred))\n",
    "\n",
    "# printing confusion matrix\n",
    "conf_matrix = confusion_matrix(y_valid, y_pred)\n",
    "\n",
    "fig, ax = plt.subplots(figsize=(2.5, 2.5))\n",
    "ax.matshow(conf_matrix, cmap=plt.cm.Blues, alpha=0.3)\n",
    "for i in range(conf_matrix.shape[0]):\n",
    "    for j in range(conf_matrix.shape[1]):\n",
    "        ax.text(x=j, y=i,s=conf_matrix[i, j], va='center', ha='center', size='small')\n",
    " \n",
    "plt.xlabel('Predictions', fontsize=10)\n",
    "plt.ylabel('Actuals', fontsize=10)\n",
    "plt.title('Confusion Matrix', fontsize=10)\n",
    "plt.show()"
   ]
  },
  {
   "cell_type": "markdown",
   "id": "690163bc",
   "metadata": {},
   "source": [
    "### Checking other algorithms"
   ]
  },
  {
   "cell_type": "code",
   "execution_count": 35,
   "id": "987c01e1",
   "metadata": {},
   "outputs": [],
   "source": [
    "from sklearn.neighbors import NearestCentroid, KNeighborsClassifier\n",
    "from sklearn.tree import DecisionTreeClassifier, ExtraTreeClassifier\n",
    "from sklearn.ensemble import BaggingClassifier, ExtraTreesClassifier, RandomForestClassifier, AdaBoostClassifier\n",
    "from sklearn.linear_model import Perceptron, PassiveAggressiveClassifier, LogisticRegression, SGDClassifier, RidgeClassifier, RidgeClassifierCV\n",
    "from sklearn.discriminant_analysis import QuadraticDiscriminantAnalysis, LinearDiscriminantAnalysis\n",
    "from sklearn.naive_bayes import BernoulliNB, GaussianNB\n",
    "from xgboost import XGBClassifier\n",
    "from lightgbm import LGBMClassifier\n",
    "from sklearn.calibration import CalibratedClassifierCV\n",
    "from sklearn.svm import LinearSVC\n",
    "from sklearn.dummy import DummyClassifier\n",
    "from lazypredict.Supervised import LazyClassifier"
   ]
  },
  {
   "cell_type": "code",
   "execution_count": 48,
   "id": "c8d36356",
   "metadata": {
    "scrolled": false
   },
   "outputs": [],
   "source": [
    "# classifier_list = {NearestCentroid\n",
    "# ,DecisionTreeClassifier\n",
    "# ,GaussianNB \n",
    "# ,ExtraTreeClassifier\n",
    "# ,Perceptron\n",
    "# ,QuadraticDiscriminantAnalysis\n",
    "# ,PassiveAggressiveClassifier\n",
    "# ,BernoulliNB\n",
    "# ,KNeighborsClassifier\n",
    "# ,BaggingClassifier\n",
    "# ,ExtraTreesClassifier\n",
    "# ,RandomForestClassifier\n",
    "# ,XGBClassifier\n",
    "# ,LGBMClassifier\n",
    "# ,AdaBoostClassifier\n",
    "# ,LogisticRegression\n",
    "# ,LinearSVC\n",
    "# ,LinearDiscriminantAnalysis\n",
    "# ,SGDClassifier\n",
    "# ,RidgeClassifier\n",
    "# ,RidgeClassifierCV\n",
    "# ,DummyClassifier }\n",
    "\n",
    "# clf = LazyClassifier(verbose=0,ignore_warnings=True, custom_metric = roc_auc_score, classifiers = classifier_list)\n",
    "# models,predictions = clf.fit(X_train, X_valid, y_train, y_valid)\n",
    "\n",
    "# print(models)"
   ]
  },
  {
   "cell_type": "markdown",
   "id": "1ad290b6",
   "metadata": {},
   "source": [
    "## Final test run"
   ]
  },
  {
   "cell_type": "code",
   "execution_count": 37,
   "id": "53eb7a30",
   "metadata": {},
   "outputs": [],
   "source": [
    "# X_train_sm1 = transform_input(X_train)\n",
    "# X_valid_sm1 = transform_input(X_valid)\n",
    "\n",
    "y_test = data_Y_prep(y_test)\n",
    "X_test , y_test = data_prep(X_test , y_test, True)"
   ]
  },
  {
   "cell_type": "code",
   "execution_count": 38,
   "id": "b330c878",
   "metadata": {},
   "outputs": [
    {
     "name": "stdout",
     "output_type": "stream",
     "text": [
      "0.5859240965899537 0.8118886380737397 0.815902745463006 0.7113221132211323 0.8138907424062201\n",
      "\n",
      "f1_score        :  0.8138907424062201\n",
      "recall_score    :  0.8118886380737397\n",
      "precision_score :  0.815902745463006\n",
      "accuracy_score  :  0.7113221132211323\n"
     ]
    },
    {
     "data": {
      "image/png": "[encoded data removed]",
      "text/plain": [
       "<Figure size 250x250 with 1 Axes>"
      ]
     },
     "metadata": {},
     "output_type": "display_data"
    }
   ],
   "source": [
    "y_pred = model_tree.predict(X_test)\n",
    "\n",
    "print(roc_auc_score(y_test, y_pred),\n",
    "     recall_score(y_test, y_pred),\n",
    "     precision_score(y_test, y_pred),\n",
    "     accuracy_score(y_test, y_pred),\n",
    "     f1_score(y_test, y_pred))\n",
    "\n",
    "print('\\nf1_score        : ',f1_score(y_test, y_pred))\n",
    "print('recall_score    : ',recall_score(y_test, y_pred))\n",
    "print('precision_score : ',precision_score(y_test, y_pred))\n",
    "print('accuracy_score  : ',accuracy_score(y_test, y_pred))\n",
    "\n",
    "# printing confusion matrix\n",
    "conf_matrix = confusion_matrix(y_test, y_pred)\n",
    "\n",
    "fig, ax = plt.subplots(figsize=(2.5, 2.5))\n",
    "ax.matshow(conf_matrix, cmap=plt.cm.Blues, alpha=0.3)\n",
    "for i in range(conf_matrix.shape[0]):\n",
    "    for j in range(conf_matrix.shape[1]):\n",
    "        ax.text(x=j, y=i,s=conf_matrix[i, j], va='center', ha='center', size='small')\n",
    " \n",
    "plt.xlabel('Predictions', fontsize=10)\n",
    "plt.ylabel('Actuals', fontsize=10)\n",
    "plt.title('Confusion Matrix', fontsize=10)\n",
    "plt.show()"
   ]
  },
  {
   "cell_type": "code",
   "execution_count": 39,
   "id": "e6490327",
   "metadata": {
    "scrolled": false
   },
   "outputs": [
    {
     "name": "stdout",
     "output_type": "stream",
     "text": [
      "0.5508444835073872 0.9502228396133588 0.7964391403483239 0.7724777247772477 0.8665610979150171\n",
      "\n",
      "f1_score        :  0.8665610979150171\n",
      "recall_score    :  0.9502228396133588\n",
      "precision_score :  0.7964391403483239\n",
      "accuracy_score  :  0.7724777247772477\n"
     ]
    },
    {
     "data": {
      "image/png": "[encoded data removed]",
      "text/plain": [
       "<Figure size 250x250 with 1 Axes>"
      ]
     },
     "metadata": {},
     "output_type": "display_data"
    }
   ],
   "source": [
    "y_pred = model_final.predict(X_test)\n",
    "\n",
    "print(roc_auc_score(y_test, y_pred),\n",
    "     recall_score(y_test, y_pred),\n",
    "     precision_score(y_test, y_pred),\n",
    "     accuracy_score(y_test, y_pred),\n",
    "     f1_score(y_test, y_pred))\n",
    "\n",
    "print('\\nf1_score        : ',f1_score(y_test, y_pred))\n",
    "print('recall_score    : ',recall_score(y_test, y_pred))\n",
    "print('precision_score : ',precision_score(y_test, y_pred))\n",
    "print('accuracy_score  : ',accuracy_score(y_test, y_pred))\n",
    "\n",
    "# printing confusion matrix\n",
    "conf_matrix = confusion_matrix(y_test, y_pred)\n",
    "\n",
    "fig, ax = plt.subplots(figsize=(2.5, 2.5))\n",
    "ax.matshow(conf_matrix, cmap=plt.cm.Blues, alpha=0.3)\n",
    "for i in range(conf_matrix.shape[0]):\n",
    "    for j in range(conf_matrix.shape[1]):\n",
    "        ax.text(x=j, y=i,s=conf_matrix[i, j], va='center', ha='center', size='small')\n",
    " \n",
    "plt.xlabel('Predictions', fontsize=10)\n",
    "plt.ylabel('Actuals', fontsize=10)\n",
    "plt.title('Confusion Matrix', fontsize=10)\n",
    "plt.show()"
   ]
  },
  {
   "cell_type": "code",
   "execution_count": null,
   "id": "523dab11",
   "metadata": {},
   "outputs": [],
   "source": []
  },
  {
   "cell_type": "code",
   "execution_count": 40,
   "id": "ffb9a872",
   "metadata": {},
   "outputs": [],
   "source": [
    "df1 = pd.read_csv('Loans - Public Test Set (No Labels).csv')\n",
    "df2 = pd.read_csv('Loans - Public Test Set (IDs and Labels).csv')\n",
    "\n",
    "final_df = pd.merge(df1,df2, on = 'Loan ID', how = 'inner')\n",
    "# change column names\n",
    "new_column_names = [x.replace(' ','_') for x in final_df.columns]\n",
    "final_df.columns = new_column_names\n",
    "final_df.rename(columns = {'Loan_Status_y':'Loan_Status'}, inplace = True)\n",
    "\n",
    "final_df[\"Monthly_Debt\"] = final_df[\"Monthly_Debt\"].str.replace(\",\", \"\")\n",
    "\n",
    "X_final_test = final_df.drop(['Loan_Status','Loan_Status_x'],axis=1)\n",
    "y_final_test = final_df['Loan_Status']"
   ]
  },
  {
   "cell_type": "code",
   "execution_count": 41,
   "id": "b4c1159c",
   "metadata": {},
   "outputs": [],
   "source": [
    "df = pd.read_csv('Loans - Training Set.csv')\n",
    "\n",
    "# change column names\n",
    "new_column_names = [x.replace(' ','_') for x in df.columns]\n",
    "df.columns = new_column_names\n",
    "\n",
    "X = df.drop('Loan_Status',axis=1)\n",
    "y = df['Loan_Status']"
   ]
  },
  {
   "cell_type": "code",
   "execution_count": 42,
   "id": "f6b82f2d",
   "metadata": {},
   "outputs": [],
   "source": [
    "# data prep final\n",
    "\n",
    "y= data_Y_prep(y)\n",
    "X , y = data_prep(X , y, False)"
   ]
  },
  {
   "cell_type": "code",
   "execution_count": 43,
   "id": "b2e8c999",
   "metadata": {},
   "outputs": [],
   "source": [
    "# data prep final_test\n",
    "\n",
    "y_final_test = data_Y_prep(y_final_test)\n",
    "X_final_test , y_final_test = data_prep(X_final_test , y_final_test, True)"
   ]
  },
  {
   "cell_type": "code",
   "execution_count": 44,
   "id": "edfb4a66",
   "metadata": {
    "scrolled": false
   },
   "outputs": [
    {
     "name": "stdout",
     "output_type": "stream",
     "text": [
      "final_testation metrics\n",
      "0.5355487321160378 0.7404920296221915 0.7369078474846205 0.624443244702389 0.7386955909282997\n",
      "\n",
      "f1_score        :  0.7386955909282997\n",
      "recall_score    :  0.7404920296221915\n",
      "precision_score :  0.7369078474846205\n",
      "accuracy_score  :  0.624443244702389\n"
     ]
    },
    {
     "data": {
      "image/png": "[encoded data removed]",
      "text/plain": [
       "<Figure size 250x250 with 1 Axes>"
      ]
     },
     "metadata": {},
     "output_type": "display_data"
    }
   ],
   "source": [
    "# final model\n",
    "\n",
    "model_final = DecisionTreeClassifier(max_depth=31, min_samples_split=12)\n",
    "model_final.fit(X_train, y_train)\n",
    "\n",
    "print('final_testation metrics')\n",
    "y_pred = model_final.predict(X_final_test)\n",
    "\n",
    "print(roc_auc_score(y_final_test, y_pred),\n",
    "     recall_score(y_final_test, y_pred),\n",
    "     precision_score(y_final_test, y_pred),\n",
    "     accuracy_score(y_final_test, y_pred),\n",
    "     f1_score(y_final_test, y_pred))\n",
    "\n",
    "print('\\nf1_score        : ',f1_score(y_final_test, y_pred))\n",
    "print('recall_score    : ',recall_score(y_final_test, y_pred))\n",
    "print('precision_score : ',precision_score(y_final_test, y_pred))\n",
    "print('accuracy_score  : ',accuracy_score(y_final_test, y_pred))\n",
    "\n",
    "# printing confusion matrix\n",
    "conf_matrix = confusion_matrix(y_final_test, y_pred)\n",
    "\n",
    "fig, ax = plt.subplots(figsize=(2.5, 2.5))\n",
    "ax.matshow(conf_matrix, cmap=plt.cm.Blues, alpha=0.3)\n",
    "for i in range(conf_matrix.shape[0]):\n",
    "    for j in range(conf_matrix.shape[1]):\n",
    "        ax.text(x=j, y=i,s=conf_matrix[i, j], va='center', ha='center', size='small')\n",
    " \n",
    "plt.xlabel('Predictions', fontsize=10)\n",
    "plt.ylabel('Actuals', fontsize=10)\n",
    "plt.title('Confusion Matrix', fontsize=10)\n",
    "plt.show()"
   ]
  },
  {
   "cell_type": "markdown",
   "id": "0459a9fe",
   "metadata": {},
   "source": [
    "## FINAL RESULTS"
   ]
  },
  {
   "cell_type": "code",
   "execution_count": 49,
   "id": "76e139d3",
   "metadata": {
    "scrolled": false
   },
   "outputs": [
    {
     "name": "stdout",
     "output_type": "stream",
     "text": [
      "final_testation metrics\n",
      "\n",
      "roc auc score   :  0.6679816578520674\n"
     ]
    },
    {
     "data": {
      "image/png": "[encoded data removed]",
      "text/plain": [
       "<Figure size 250x250 with 1 Axes>"
      ]
     },
     "metadata": {},
     "output_type": "display_data"
    }
   ],
   "source": [
    "model_final = GaussianNB()\n",
    "model_final.fit(X_train, y_train)\n",
    "\n",
    "print('final_testation metrics')\n",
    "y_pred = model_final.predict(X_final_test)\n",
    "y_pred_p = model_final.predict_proba(X_final_test)\n",
    "\n",
    "print('\\nroc auc score   : ',roc_auc_score(y_final_test, pd.DataFrame(y_pred_p)[1]))\n",
    "# printing confusion matrix\n",
    "conf_matrix = confusion_matrix(y_final_test, y_pred)\n",
    "\n",
    "fig, ax = plt.subplots(figsize=(2.5, 2.5))\n",
    "ax.matshow(conf_matrix, cmap=plt.cm.Blues, alpha=0.3)\n",
    "for i in range(conf_matrix.shape[0]):\n",
    "    for j in range(conf_matrix.shape[1]):\n",
    "        ax.text(x=j, y=i,s=conf_matrix[i, j], va='center', ha='center', size='small')\n",
    " \n",
    "plt.xlabel('Predictions', fontsize=10)\n",
    "plt.ylabel('Actuals', fontsize=10)\n",
    "plt.title('Confusion Matrix', fontsize=10)\n",
    "plt.show()"
   ]
  }
 ],
 "metadata": {
  "kernelspec": {
   "display_name": "Python 3 (ipykernel)",
   "language": "python",
   "name": "python3"
  },
  "language_info": {
   "codemirror_mode": {
    "name": "ipython",
    "version": 3
   },
   "file_extension": ".py",
   "mimetype": "text/x-python",
   "name": "python",
   "nbconvert_exporter": "python",
   "pygments_lexer": "ipython3",
   "version": "3.9.13"
  }
 },
 "nbformat": 4,
 "nbformat_minor": 5
}
